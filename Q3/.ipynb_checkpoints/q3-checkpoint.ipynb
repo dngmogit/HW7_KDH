{
 "cells": [
  {
   "cell_type": "code",
   "execution_count": 19,
   "id": "0e56d07a",
   "metadata": {},
   "outputs": [
    {
     "name": "stdout",
     "output_type": "stream",
     "text": [
      "        unit price  number\n",
      "store1        1000      25\n",
      "store2         280     120\n",
      "store3         900      30\n",
      "        unit price  number  total price\n",
      "store1        1000      25        25000\n",
      "store2         280     120        33600\n",
      "store3         900      30        27000\n",
      "        unit price  number  total price\n",
      "store2         280     120        33600\n",
      "store3         900      30        27000\n"
     ]
    }
   ],
   "source": [
    "import pandas as pd\n",
    "\n",
    "def main():\n",
    "    data = [[1000,25],[280,120],[900,30]]\n",
    "    \n",
    "    df = pd.DataFrame(data,index=[\"store1\",\"store2\",\"store3\"],columns=[\"unit price\",\"number\"])\n",
    "    print(df)\n",
    "    \n",
    "    df['total price']=df['unit price']*df['number']\n",
    "    print(df)\n",
    "    \n",
    "    df2=df.sort_values('unit price',ascending = True)    \n",
    "    print(df2.head(2))\n",
    "    \n",
    "    \n",
    "if __name__ == \"__main__\":\n",
    "    main()"
   ]
  },
  {
   "cell_type": "code",
   "execution_count": null,
   "id": "f2bd754a",
   "metadata": {},
   "outputs": [],
   "source": []
  },
  {
   "cell_type": "code",
   "execution_count": null,
   "id": "8bb607f6",
   "metadata": {},
   "outputs": [],
   "source": []
  }
 ],
 "metadata": {
  "kernelspec": {
   "display_name": "Python 3 (ipykernel)",
   "language": "python",
   "name": "python3"
  },
  "language_info": {
   "codemirror_mode": {
    "name": "ipython",
    "version": 3
   },
   "file_extension": ".py",
   "mimetype": "text/x-python",
   "name": "python",
   "nbconvert_exporter": "python",
   "pygments_lexer": "ipython3",
   "version": "3.10.9"
  }
 },
 "nbformat": 4,
 "nbformat_minor": 5
}
