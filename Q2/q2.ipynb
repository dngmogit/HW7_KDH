{
 "cells": [
  {
   "cell_type": "code",
   "execution_count": 3,
   "id": "567e782e",
   "metadata": {},
   "outputs": [
    {
     "name": "stdout",
     "output_type": "stream",
     "text": [
      "doc1:0.58\n",
      "doc2:0.87\n",
      "doc3:0.67\n"
     ]
    }
   ],
   "source": [
    "#소수점 둘째자리까지 출력\n",
    "\n",
    "import numpy as np\n",
    "from numpy import dot\n",
    "from numpy.linalg import norm\n",
    "\n",
    "def cosine_similarity(A,B):\n",
    "    return dot(A,B)/(norm(A)*norm(B))\n",
    "\n",
    "def main():\n",
    "    docs = [[1,1,0,1,0,1],[1,1,1,0,1,0],[1,1,0,1,0,0]]\n",
    "    query = [1,1,0,0,1,0]\n",
    "    \n",
    "    doc1 = cosine_similarity(docs[0],query)\n",
    "    doc2 = cosine_similarity(docs[1],query)\n",
    "    doc3 = cosine_similarity(docs[2],query)\n",
    "    \n",
    "    print(\"doc1:{0:.2f}\".format(doc1))\n",
    "    print(\"doc2:{0:.2f}\".format(doc2))\n",
    "    print(\"doc3:{0:.2f}\".format(doc3))\n",
    "    \n",
    "    \n",
    "    \n",
    "    \n",
    "if __name__ == \"__main__\":\n",
    "    main()"
   ]
  },
  {
   "cell_type": "code",
   "execution_count": null,
   "id": "4f22eccf",
   "metadata": {},
   "outputs": [],
   "source": []
  }
 ],
 "metadata": {
  "kernelspec": {
   "display_name": "Python 3 (ipykernel)",
   "language": "python",
   "name": "python3"
  },
  "language_info": {
   "codemirror_mode": {
    "name": "ipython",
    "version": 3
   },
   "file_extension": ".py",
   "mimetype": "text/x-python",
   "name": "python",
   "nbconvert_exporter": "python",
   "pygments_lexer": "ipython3",
   "version": "3.10.9"
  }
 },
 "nbformat": 4,
 "nbformat_minor": 5
}
