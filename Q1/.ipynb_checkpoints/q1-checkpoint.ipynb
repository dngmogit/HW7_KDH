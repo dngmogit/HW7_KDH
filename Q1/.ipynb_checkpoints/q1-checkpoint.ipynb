{
 "cells": [
  {
   "cell_type": "code",
   "execution_count": 11,
   "id": "56d6620b",
   "metadata": {},
   "outputs": [
    {
     "name": "stdout",
     "output_type": "stream",
     "text": [
      "Eigenvalues:  [-0.37228132  5.37228132]\n",
      "Eigenvectors:  [[-0.82456484 -0.41597356]\n",
      " [ 0.56576746 -0.90937671]]\n",
      "Determinant:  -2.0000000000000004\n",
      "Cross product: [-3  6 -3]\n",
      "Solution: [-1. -4.  3.]\n"
     ]
    }
   ],
   "source": [
    "import numpy as np\n",
    "\n",
    "def main():\n",
    "    arr = [[1,2],[3,4]]\n",
    "    eig_val,eig_vec = np.linalg.eig(arr)\n",
    "    det = np.linalg.det(arr)\n",
    "    vec1 = [1,2,3]\n",
    "    vec2 = [4,5,6]\n",
    "    cross=np.cross(vec1,vec2)\n",
    "    \n",
    "    a = [[1,2,-2],[2,1,-5],[1,-4,1]]\n",
    "    b = [-15,-21,18]\n",
    "    \n",
    "    x = np.linalg.inv(a).dot(b)\n",
    "    \n",
    "\n",
    "    print(\"Eigenvalues: \",eig_val)\n",
    "    print(\"Eigenvectors: \",eig_vec)\n",
    "    print(\"Determinant: \",det)\n",
    "    print(\"Cross product:\",cross)\n",
    "    print(\"Solution:\",x)\n",
    "\n",
    "    \n",
    "if __name__ == \"__main__\":\n",
    "    main()\n"
   ]
  },
  {
   "cell_type": "code",
   "execution_count": null,
   "id": "df88a17f",
   "metadata": {},
   "outputs": [],
   "source": []
  }
 ],
 "metadata": {
  "kernelspec": {
   "display_name": "Python 3 (ipykernel)",
   "language": "python",
   "name": "python3"
  },
  "language_info": {
   "codemirror_mode": {
    "name": "ipython",
    "version": 3
   },
   "file_extension": ".py",
   "mimetype": "text/x-python",
   "name": "python",
   "nbconvert_exporter": "python",
   "pygments_lexer": "ipython3",
   "version": "3.10.9"
  }
 },
 "nbformat": 4,
 "nbformat_minor": 5
}
